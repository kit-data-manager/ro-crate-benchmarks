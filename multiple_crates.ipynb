{
 "cells": [
  {
   "cell_type": "code",
   "execution_count": 1,
   "metadata": {},
   "outputs": [
    {
     "name": "stdout",
     "output_type": "stream",
     "text": [
      "### Pypy3 env\n",
      "Python 3.7.13 (7e0ae751533460d5f89f3ac48ce366d8642d1db5, Apr 26 2022, 09:29:08)\n",
      "[PyPy 7.3.9 with GCC Apple LLVM 13.1.6 (clang-1316.0.21.2)]\n",
      "### Python3 env\n",
      "Python 3.10.6\n",
      "### Ruby env\n",
      "ruby 3.1.2p20 (2022-04-12 revision 4491bb740a) [x86_64-darwin21]\n",
      "### Host OS\n",
      "System: Darwin\n",
      "Release: 21.6.0\n",
      "Version: Darwin Kernel Version 21.6.0: Sat Jun 18 17:07:25 PDT 2022; root:xnu-8020.140.41~1/RELEASE_X86_64\n",
      "Machine: x86_64\n",
      "Processor: i386\n",
      "macOS: ('12.5', ('', '', ''), 'x86_64')\n"
     ]
    }
   ],
   "source": [
    "import platform\n",
    "\n",
    "print(\"### Pypy3 env\")\n",
    "os.system(\"pypy3 --version\")\n",
    "\n",
    "print(\"### Python3 env\")\n",
    "os.system(\"python3 --version\")\n",
    "\n",
    "print(\"### Ruby env\")\n",
    "os.system(\"ruby --version\")\n",
    "\n",
    "print(\"### Host OS\")\n",
    "uname = platform.uname()\n",
    "print(f\"System: {uname.system}\")\n",
    "print(f\"Release: {uname.release}\")\n",
    "print(f\"Version: {uname.version}\")\n",
    "print(f\"Machine: {uname.machine}\")\n",
    "print(f\"Processor: {uname.processor}\")\n",
    "print(f\"macOS: {platform.mac_ver()}\")"
   ]
  },
  {
   "cell_type": "code",
   "execution_count": 10,
   "metadata": {},
   "outputs": [],
   "source": [
    "import os\n",
    "import numpy as np\n",
    "result = {\n",
    "    'python3': [],\n",
    "    'pypy': [],\n",
    "    'ruby': [],\n",
    "    'ruby_jit': [],\n",
    "    'java':[]\n",
    "}\n",
    "\n",
    "times_to_run = 1\n",
    "num_entities_crate = 50\n",
    "#num_crates = [10, 50, 100, 250, 500]\n",
    "num_crates = [500, 1000, 1500, 2500, 5000]\n",
    "#num_crates = [500]"
   ]
  },
  {
   "cell_type": "code",
   "execution_count": 11,
   "metadata": {},
   "outputs": [
    {
     "name": "stdout",
     "output_type": "stream",
     "text": [
      "Starting java performance tests\n",
      "\n",
      "> Configure project :\n",
      "Using release profile for building ro-crate-java\n",
      "WARNING: No property 'signingKey' found. Artifact signing will be skipped.\n",
      "\n",
      "> Task :compileJava UP-TO-DATE\n",
      "> Task :processResources UP-TO-DATE\n",
      "> Task :classes UP-TO-DATE\n",
      "> Task :compilePerformanceTestJava UP-TO-DATE\n",
      "> Task :processPerformanceTestResources NO-SOURCE\n",
      "> Task :performanceTestClasses UP-TO-DATE\n",
      "\n",
      "> Task :performanceMultipleCratesBenchmark\n",
      "time taken: 1.595 seconds\n",
      "\n",
      "BUILD SUCCESSFUL in 2s\n",
      "4 actionable tasks: 1 executed, 3 up-to-date\n",
      "\n",
      "> Configure project :\n",
      "Using release profile for building ro-crate-java\n",
      "WARNING: No property 'signingKey' found. Artifact signing will be skipped.\n",
      "\n",
      "> Task :compileJava UP-TO-DATE\n",
      "> Task :processResources UP-TO-DATE\n",
      "> Task :classes UP-TO-DATE\n",
      "> Task :compilePerformanceTestJava UP-TO-DATE\n",
      "> Task :processPerformanceTestResources NO-SOURCE\n",
      "> Task :performanceTestClasses UP-TO-DATE\n",
      "\n",
      "> Task :performanceMultipleCratesBenchmark\n",
      "time taken: 1.953 seconds\n",
      "\n",
      "BUILD SUCCESSFUL in 2s\n",
      "4 actionable tasks: 1 executed, 3 up-to-date\n",
      "\n",
      "> Configure project :\n",
      "Using release profile for building ro-crate-java\n",
      "WARNING: No property 'signingKey' found. Artifact signing will be skipped.\n",
      "\n",
      "> Task :compileJava UP-TO-DATE\n",
      "> Task :processResources UP-TO-DATE\n",
      "> Task :classes UP-TO-DATE\n",
      "> Task :compilePerformanceTestJava UP-TO-DATE\n",
      "> Task :processPerformanceTestResources NO-SOURCE\n",
      "> Task :performanceTestClasses UP-TO-DATE\n",
      "\n",
      "> Task :performanceMultipleCratesBenchmark\n",
      "time taken: 2.433 seconds\n",
      "\n",
      "BUILD SUCCESSFUL in 3s\n",
      "4 actionable tasks: 1 executed, 3 up-to-date\n",
      "\n",
      "> Configure project :\n",
      "Using release profile for building ro-crate-java\n",
      "WARNING: No property 'signingKey' found. Artifact signing will be skipped.\n",
      "\n",
      "> Task :compileJava UP-TO-DATE\n",
      "> Task :processResources UP-TO-DATE\n",
      "> Task :classes UP-TO-DATE\n",
      "> Task :compilePerformanceTestJava UP-TO-DATE\n",
      "> Task :processPerformanceTestResources NO-SOURCE\n",
      "> Task :performanceTestClasses UP-TO-DATE\n",
      "\n",
      "> Task :performanceMultipleCratesBenchmark\n",
      "time taken: 3.419 seconds\n",
      "\n",
      "BUILD SUCCESSFUL in 4s\n",
      "4 actionable tasks: 1 executed, 3 up-to-date\n",
      "\n",
      "> Configure project :\n",
      "Using release profile for building ro-crate-java\n",
      "WARNING: No property 'signingKey' found. Artifact signing will be skipped.\n",
      "\n",
      "> Task :compileJava UP-TO-DATE\n",
      "> Task :processResources UP-TO-DATE\n",
      "> Task :classes UP-TO-DATE\n",
      "> Task :compilePerformanceTestJava UP-TO-DATE\n",
      "> Task :processPerformanceTestResources NO-SOURCE\n",
      "> Task :performanceTestClasses UP-TO-DATE\n",
      "\n",
      "> Task :performanceMultipleCratesBenchmark\n",
      "time taken: 5.966 seconds\n",
      "\n",
      "BUILD SUCCESSFUL in 6s\n",
      "4 actionable tasks: 1 executed, 3 up-to-date\n",
      "{'python3': [], 'pypy': [], 'ruby': [], 'ruby_jit': [], 'java': [1.595, 1.953, 2.433, 3.419, 5.966]}\n"
     ]
    }
   ],
   "source": [
    "# java\n",
    "java_library_location = '/Users/pfeil/git/ro-crate-java/'\n",
    "\n",
    "def calc_result_java():\n",
    "    java_file = open(java_library_location+'mul_mix_java.txt', 'r')\n",
    "    java_lines = java_file.readlines()\n",
    "    b = np.asarray(java_lines, dtype=float)\n",
    "    result['java'].append(np.mean(b))\n",
    "    os.remove(java_library_location+'mul_mix_java.txt')\n",
    "\n",
    "\n",
    "print('Starting java performance tests')    \n",
    "\n",
    "data_path = '/Users/pfeil/git/ro-crate-benchmarks/data/'\n",
    "base_id = \"https://www.example.com/\"\n",
    "for times in num_crates:\n",
    "    for i in range(times_to_run): \n",
    "        os.system(\"cd \" + java_library_location + \";./gradlew performanceMultipleCratesBenchmark --args=\\\"\"  + str(times) + ' ' + str(num_entities_crate) + ' ' + data_path +'\\\"')\n",
    "    calc_result_java()\n",
    "\n",
    "print(result)"
   ]
  },
  {
   "cell_type": "code",
   "execution_count": 12,
   "metadata": {},
   "outputs": [
    {
     "name": "stdout",
     "output_type": "stream",
     "text": [
      "Starting python3 performance tests\n",
      "50 1.697563886642456\n",
      "50 3.416301965713501\n",
      "50 5.117370843887329\n",
      "50 8.45145297050476\n",
      "50 17.013626098632812\n",
      "{'python3': [1.697563886642456, 3.416301965713501, 5.117370843887329, 8.45145297050476, 17.013626098632812], 'pypy': [], 'ruby': [], 'ruby_jit': [], 'java': [1.595, 1.953, 2.433, 3.419, 5.966]}\n"
     ]
    }
   ],
   "source": [
    "# python3\n",
    "def calc_result_py():\n",
    "    \n",
    "    python_file = open('mul_mix_py.txt', 'r')\n",
    "    py_lines = python_file.readlines()\n",
    "    b = np.asarray(py_lines, dtype=float)\n",
    "    result['python3'].append(np.mean(b))\n",
    "    os.remove(\"mul_mix_py.txt\")\n",
    "\n",
    "print('Starting python3 performance tests')    \n",
    "\n",
    "for times in num_crates:\n",
    "    for i in range(times_to_run):\n",
    "        os.system(\"python3 performance_tests/multiple_crates/task.py \" + str(times) + ' ' + str(num_entities_crate))\n",
    "    calc_result_py()\n",
    "\n",
    "print(result)\n",
    "    "
   ]
  },
  {
   "cell_type": "code",
   "execution_count": 13,
   "metadata": {},
   "outputs": [
    {
     "name": "stdout",
     "output_type": "stream",
     "text": [
      "Starting python3 performance tests\n",
      "50 1.1655569076538086\n",
      "50 1.7195701599121094\n",
      "50 2.2314279079437256\n",
      "50 3.2415640354156494\n",
      "50 5.8018410205841064\n",
      "{'python3': [1.697563886642456, 3.416301965713501, 5.117370843887329, 8.45145297050476, 17.013626098632812], 'pypy': [1.1655569076538086, 1.7195701599121094, 2.2314279079437256, 3.2415640354156494, 5.8018410205841064], 'ruby': [], 'ruby_jit': [], 'java': [1.595, 1.953, 2.433, 3.419, 5.966]}\n"
     ]
    }
   ],
   "source": [
    "# pypy3\n",
    "def calc_result_pypy():\n",
    "    \n",
    "    python_file = open('mul_mix_py.txt', 'r')\n",
    "    py_lines = python_file.readlines()\n",
    "    b = np.asarray(py_lines, dtype=float)\n",
    "    result['pypy'].append(np.mean(b))\n",
    "    os.remove(\"mul_mix_py.txt\")\n",
    "\n",
    "print('Starting python3 performance tests')    \n",
    "\n",
    "for times in num_crates:\n",
    "    for i in range(times_to_run):\n",
    "        os.system(\"pypy3 performance_tests/multiple_crates/task.py \" + str(times) + ' ' + str(num_entities_crate))\n",
    "    calc_result_pypy()\n",
    "\n",
    "print(result)"
   ]
  },
  {
   "cell_type": "code",
   "execution_count": 14,
   "metadata": {},
   "outputs": [
    {
     "name": "stdout",
     "output_type": "stream",
     "text": [
      "Starting ruby performance tests\n",
      "crates = 500 entities in crate = 50 time = 84.82721400000082\n",
      "crates = 1000 entities in crate = 50 time = 174.31033899999966\n",
      "crates = 1500 entities in crate = 50 time = 253.88233199999922\n",
      "crates = 2500 entities in crate = 50 time = 427.85832200000004\n",
      "crates = 5000 entities in crate = 50 time = 861.487439999999\n",
      "{'python3': [1.697563886642456, 3.416301965713501, 5.117370843887329, 8.45145297050476, 17.013626098632812], 'pypy': [1.1655569076538086, 1.7195701599121094, 2.2314279079437256, 3.2415640354156494, 5.8018410205841064], 'ruby': [84.82721400000082, 174.31033899999966, 253.88233199999922, 427.85832200000004, 861.487439999999], 'ruby_jit': [], 'java': [1.595, 1.953, 2.433, 3.419, 5.966]}\n"
     ]
    }
   ],
   "source": [
    "# ruby\n",
    "def calc_result_rb():\n",
    "    \n",
    "    rb_file = open('mul_mix_rb.txt', 'r')\n",
    "    rb_lines = rb_file.readlines()\n",
    "    b = np.asarray(rb_lines, dtype=float)\n",
    "    result['ruby'].append(np.mean(b))\n",
    "    os.remove(\"mul_mix_rb.txt\")\n",
    "\n",
    "print('Starting ruby performance tests')    \n",
    "\n",
    "for times in num_crates:\n",
    "    for i in range(times_to_run):\n",
    "        os.system(\"ruby performance_tests/multiple_crates/task.rb \" + str(times) + ' ' + str(num_entities_crate))\n",
    "    calc_result_rb()\n",
    "\n",
    "print(result)"
   ]
  },
  {
   "cell_type": "code",
   "execution_count": 15,
   "metadata": {},
   "outputs": [
    {
     "name": "stdout",
     "output_type": "stream",
     "text": [
      "Starting ruby --jit performance tests\n",
      "crates = 500 entities in crate = 50 time = 62.00050700000065\n",
      "crates = 1000 entities in crate = 50 time = 124.58380700000089\n",
      "crates = 1500 entities in crate = 50 time = 186.63875799999914\n",
      "crates = 2500 entities in crate = 50 time = 316.9889920000005\n",
      "crates = 5000 entities in crate = 50 time = 622.0189030000001\n",
      "{'python3': [1.697563886642456, 3.416301965713501, 5.117370843887329, 8.45145297050476, 17.013626098632812], 'pypy': [1.1655569076538086, 1.7195701599121094, 2.2314279079437256, 3.2415640354156494, 5.8018410205841064], 'ruby': [84.82721400000082, 174.31033899999966, 253.88233199999922, 427.85832200000004, 861.487439999999], 'ruby_jit': [62.00050700000065, 124.58380700000089, 186.63875799999914, 316.9889920000005, 622.0189030000001], 'java': [1.595, 1.953, 2.433, 3.419, 5.966]}\n"
     ]
    }
   ],
   "source": [
    "# ruby --jit\n",
    "\n",
    "def calc_result_rbjit():\n",
    "    \n",
    "    rb_file = open('mul_mix_rb.txt', 'r')\n",
    "    rb_lines = rb_file.readlines()\n",
    "    b = np.asarray(rb_lines, dtype=float)\n",
    "    result['ruby_jit'].append(np.mean(b))\n",
    "    os.remove(\"mul_mix_rb.txt\")\n",
    "\n",
    "print('Starting ruby --jit performance tests')    \n",
    "\n",
    "for times in num_crates:\n",
    "    for i in range(times_to_run):\n",
    "        os.system(\"ruby --jit performance_tests/multiple_crates/task.rb \" + str(times) + ' ' + str(num_entities_crate))\n",
    "    calc_result_rbjit()\n",
    "\n",
    "print(result)"
   ]
  },
  {
   "cell_type": "code",
   "execution_count": 16,
   "metadata": {},
   "outputs": [
    {
     "data": {
      "image/png": "[encoded data removed]",
      "text/plain": [
       "<Figure size 1500x500 with 1 Axes>"
      ]
     },
     "metadata": {},
     "output_type": "display_data"
    }
   ],
   "source": [
    "# plot\n",
    "\n",
    "import matplotlib.pyplot as plt\n",
    "import numpy as np\n",
    "\n",
    "labels = ['java', 'python3', 'pypy', 'ruby', 'ruby_jit']\n",
    "#labels = ['java', 'python3', 'pypy']\n",
    "\n",
    "\n",
    "java_test = []\n",
    "python3 = []\n",
    "pypy = []\n",
    "ruby = []\n",
    "rubyjit = []\n",
    "\n",
    "arrays = [[], [], [], [], []]\n",
    "\n",
    "lan_times = len(labels)\n",
    "\n",
    "\n",
    "x = np.arange(5)\n",
    "ticks = np.arange(5)\n",
    "\n",
    "width = 0.15\n",
    "\n",
    "# plot\n",
    "fig, ax = plt.subplots(1,1)\n",
    "names = []\n",
    "for i in num_crates:\n",
    "    names.append('n = ' + str(i))\n",
    "\n",
    "ax.set_ylabel(\"Time in seconds\")\n",
    "ax.set_xticks(ticks)\n",
    "ax.set_xticklabels(names)\n",
    "\n",
    "fig.set_figwidth(15)\n",
    "fig.set_figheight(5)\n",
    "\n",
    "\n",
    "\n",
    "for i in range(lan_times):\n",
    "    arrays[i] = np.around(result[labels[i]],2)\n",
    "\n",
    "base_width = ticks - 1*width\n",
    "# if all 5\n",
    "#base_width = ticks - 2*width\n",
    "\n",
    "for i in range(lan_times):\n",
    "    br = ax.bar(base_width, arrays[i], width, label=labels[i])\n",
    "    ax.bar_label(br)\n",
    "    base_width += width\n",
    "\n",
    "\n",
    "ax.set_title('Creating n Crates with 100 Entities each.')\n",
    "ax.legend()\n",
    "\n",
    "\n",
    "plt.show()"
   ]
  },
  {
   "cell_type": "code",
   "execution_count": null,
   "metadata": {},
   "outputs": [],
   "source": []
  }
 ],
 "metadata": {
  "kernelspec": {
   "display_name": "Python 3.10.6 ('ro-crate-benchmarks-Etu8gjWQ-py3.10')",
   "language": "python",
   "name": "python3"
  },
  "language_info": {
   "codemirror_mode": {
    "name": "ipython",
    "version": 3
   },
   "file_extension": ".py",
   "mimetype": "text/x-python",
   "name": "python",
   "nbconvert_exporter": "python",
   "pygments_lexer": "ipython3",
   "version": "3.10.6"
  },
  "vscode": {
   "interpreter": {
    "hash": "0962fbc593eb7ae15e9dc0141303a1fb3970c788cf9a5548ad4fd9a0db193787"
   }
  }
 },
 "nbformat": 4,
 "nbformat_minor": 4
}
